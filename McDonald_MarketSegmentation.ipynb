{
 "cells": [
  {
   "attachments": {},
   "cell_type": "markdown",
   "id": "6314bdf5",
   "metadata": {},
   "source": [
    "Exploring Data"
   ]
  },
  {
   "cell_type": "code",
   "execution_count": 24,
   "id": "7bd46843",
   "metadata": {},
   "outputs": [],
   "source": [
    "import pandas as pd\n",
    "mcdonalds= pd.read_csv('https://homepage.boku.ac.at/leisch/MSA/datasets/mcdonalds.csv')"
   ]
  },
  {
   "cell_type": "code",
   "execution_count": 3,
   "id": "ef2588b7",
   "metadata": {},
   "outputs": [
    {
     "data": {
      "text/html": [
       "<div>\n",
       "<style scoped>\n",
       "    .dataframe tbody tr th:only-of-type {\n",
       "        vertical-align: middle;\n",
       "    }\n",
       "\n",
       "    .dataframe tbody tr th {\n",
       "        vertical-align: top;\n",
       "    }\n",
       "\n",
       "    .dataframe thead th {\n",
       "        text-align: right;\n",
       "    }\n",
       "</style>\n",
       "<table border=\"1\" class=\"dataframe\">\n",
       "  <thead>\n",
       "    <tr style=\"text-align: right;\">\n",
       "      <th></th>\n",
       "      <th>yummy</th>\n",
       "      <th>convenient</th>\n",
       "      <th>spicy</th>\n",
       "      <th>fattening</th>\n",
       "      <th>greasy</th>\n",
       "      <th>fast</th>\n",
       "      <th>cheap</th>\n",
       "      <th>tasty</th>\n",
       "      <th>expensive</th>\n",
       "      <th>healthy</th>\n",
       "      <th>disgusting</th>\n",
       "      <th>Like</th>\n",
       "      <th>Age</th>\n",
       "      <th>VisitFrequency</th>\n",
       "      <th>Gender</th>\n",
       "    </tr>\n",
       "  </thead>\n",
       "  <tbody>\n",
       "    <tr>\n",
       "      <th>0</th>\n",
       "      <td>No</td>\n",
       "      <td>Yes</td>\n",
       "      <td>No</td>\n",
       "      <td>Yes</td>\n",
       "      <td>No</td>\n",
       "      <td>Yes</td>\n",
       "      <td>Yes</td>\n",
       "      <td>No</td>\n",
       "      <td>Yes</td>\n",
       "      <td>No</td>\n",
       "      <td>No</td>\n",
       "      <td>-3</td>\n",
       "      <td>61</td>\n",
       "      <td>Every three months</td>\n",
       "      <td>Female</td>\n",
       "    </tr>\n",
       "    <tr>\n",
       "      <th>1</th>\n",
       "      <td>Yes</td>\n",
       "      <td>Yes</td>\n",
       "      <td>No</td>\n",
       "      <td>Yes</td>\n",
       "      <td>Yes</td>\n",
       "      <td>Yes</td>\n",
       "      <td>Yes</td>\n",
       "      <td>Yes</td>\n",
       "      <td>Yes</td>\n",
       "      <td>No</td>\n",
       "      <td>No</td>\n",
       "      <td>+2</td>\n",
       "      <td>51</td>\n",
       "      <td>Every three months</td>\n",
       "      <td>Female</td>\n",
       "    </tr>\n",
       "    <tr>\n",
       "      <th>2</th>\n",
       "      <td>No</td>\n",
       "      <td>Yes</td>\n",
       "      <td>Yes</td>\n",
       "      <td>Yes</td>\n",
       "      <td>Yes</td>\n",
       "      <td>Yes</td>\n",
       "      <td>No</td>\n",
       "      <td>Yes</td>\n",
       "      <td>Yes</td>\n",
       "      <td>Yes</td>\n",
       "      <td>No</td>\n",
       "      <td>+1</td>\n",
       "      <td>62</td>\n",
       "      <td>Every three months</td>\n",
       "      <td>Female</td>\n",
       "    </tr>\n",
       "    <tr>\n",
       "      <th>3</th>\n",
       "      <td>Yes</td>\n",
       "      <td>Yes</td>\n",
       "      <td>No</td>\n",
       "      <td>Yes</td>\n",
       "      <td>Yes</td>\n",
       "      <td>Yes</td>\n",
       "      <td>Yes</td>\n",
       "      <td>Yes</td>\n",
       "      <td>No</td>\n",
       "      <td>No</td>\n",
       "      <td>Yes</td>\n",
       "      <td>+4</td>\n",
       "      <td>69</td>\n",
       "      <td>Once a week</td>\n",
       "      <td>Female</td>\n",
       "    </tr>\n",
       "    <tr>\n",
       "      <th>4</th>\n",
       "      <td>No</td>\n",
       "      <td>Yes</td>\n",
       "      <td>No</td>\n",
       "      <td>Yes</td>\n",
       "      <td>Yes</td>\n",
       "      <td>Yes</td>\n",
       "      <td>Yes</td>\n",
       "      <td>No</td>\n",
       "      <td>No</td>\n",
       "      <td>Yes</td>\n",
       "      <td>No</td>\n",
       "      <td>+2</td>\n",
       "      <td>49</td>\n",
       "      <td>Once a month</td>\n",
       "      <td>Male</td>\n",
       "    </tr>\n",
       "  </tbody>\n",
       "</table>\n",
       "</div>"
      ],
      "text/plain": [
       "  yummy convenient spicy fattening greasy fast cheap tasty expensive healthy  \\\n",
       "0    No        Yes    No       Yes     No  Yes   Yes    No       Yes      No   \n",
       "1   Yes        Yes    No       Yes    Yes  Yes   Yes   Yes       Yes      No   \n",
       "2    No        Yes   Yes       Yes    Yes  Yes    No   Yes       Yes     Yes   \n",
       "3   Yes        Yes    No       Yes    Yes  Yes   Yes   Yes        No      No   \n",
       "4    No        Yes    No       Yes    Yes  Yes   Yes    No        No     Yes   \n",
       "\n",
       "  disgusting Like  Age      VisitFrequency  Gender  \n",
       "0         No   -3   61  Every three months  Female  \n",
       "1         No   +2   51  Every three months  Female  \n",
       "2         No   +1   62  Every three months  Female  \n",
       "3        Yes   +4   69         Once a week  Female  \n",
       "4         No   +2   49        Once a month    Male  "
      ]
     },
     "execution_count": 3,
     "metadata": {},
     "output_type": "execute_result"
    }
   ],
   "source": [
    "mcdonalds.head()"
   ]
  },
  {
   "cell_type": "code",
   "execution_count": 4,
   "id": "0be51f56",
   "metadata": {},
   "outputs": [
    {
     "data": {
      "text/plain": [
       "(1453, 15)"
      ]
     },
     "execution_count": 4,
     "metadata": {},
     "output_type": "execute_result"
    }
   ],
   "source": [
    "mcdonalds.shape"
   ]
  },
  {
   "cell_type": "code",
   "execution_count": 5,
   "id": "e659f761",
   "metadata": {},
   "outputs": [
    {
     "name": "stdout",
     "output_type": "stream",
     "text": [
      "['yummy', 'convenient', 'spicy', 'fattening', 'greasy', 'fast', 'cheap', 'tasty', 'expensive', 'healthy', 'disgusting']\n"
     ]
    }
   ],
   "source": [
    "print(mcdonalds.columns.tolist()[0:11])\n",
    "attribute_names=mcdonalds.columns.tolist()[0:11]"
   ]
  },
  {
   "cell_type": "code",
   "execution_count": 6,
   "id": "a0053fbf",
   "metadata": {},
   "outputs": [],
   "source": [
    "MD_x = mcdonalds.iloc[:, 0:11].values"
   ]
  },
  {
   "cell_type": "code",
   "execution_count": 7,
   "id": "58677939",
   "metadata": {},
   "outputs": [
    {
     "name": "stdout",
     "output_type": "stream",
     "text": [
      "[['No' 'Yes' 'No' ... 'Yes' 'No' 'No']\n",
      " ['Yes' 'Yes' 'No' ... 'Yes' 'No' 'No']\n",
      " ['No' 'Yes' 'Yes' ... 'Yes' 'Yes' 'No']\n",
      " ...\n",
      " ['Yes' 'Yes' 'No' ... 'Yes' 'No' 'No']\n",
      " ['Yes' 'Yes' 'No' ... 'No' 'Yes' 'No']\n",
      " ['No' 'Yes' 'No' ... 'Yes' 'No' 'Yes']]\n"
     ]
    }
   ],
   "source": [
    "print(MD_x)"
   ]
  },
  {
   "cell_type": "code",
   "execution_count": 8,
   "id": "c4165d64",
   "metadata": {},
   "outputs": [
    {
     "data": {
      "text/plain": [
       "array([[0, 1, 0, ..., 1, 0, 0],\n",
       "       [1, 1, 0, ..., 1, 0, 0],\n",
       "       [0, 1, 1, ..., 1, 1, 0],\n",
       "       ...,\n",
       "       [1, 1, 0, ..., 1, 0, 0],\n",
       "       [1, 1, 0, ..., 0, 1, 0],\n",
       "       [0, 1, 0, ..., 1, 0, 1]])"
      ]
     },
     "execution_count": 8,
     "metadata": {},
     "output_type": "execute_result"
    }
   ],
   "source": [
    "MD_x = (MD_x == \"Yes\").astype(int)\n",
    "MD_x"
   ]
  },
  {
   "cell_type": "code",
   "execution_count": 9,
   "id": "0bf790a8",
   "metadata": {},
   "outputs": [],
   "source": [
    "import numpy as np\n",
    "col_means = np.round(np.mean(MD_x, axis=0), 2)"
   ]
  },
  {
   "cell_type": "code",
   "execution_count": 10,
   "id": "c29242d6",
   "metadata": {},
   "outputs": [
    {
     "data": {
      "text/plain": [
       "array([0.55, 0.91, 0.09, 0.87, 0.53, 0.9 , 0.6 , 0.64, 0.36, 0.2 , 0.24])"
      ]
     },
     "execution_count": 10,
     "metadata": {},
     "output_type": "execute_result"
    }
   ],
   "source": [
    "col_means"
   ]
  },
  {
   "cell_type": "code",
   "execution_count": 11,
   "id": "5a55f200",
   "metadata": {},
   "outputs": [
    {
     "data": {
      "text/plain": [
       "array([[0, 1, 0, ..., 1, 0, 0],\n",
       "       [1, 1, 0, ..., 1, 0, 0],\n",
       "       [0, 1, 1, ..., 1, 1, 0],\n",
       "       ...,\n",
       "       [1, 1, 0, ..., 1, 0, 0],\n",
       "       [1, 1, 0, ..., 0, 1, 0],\n",
       "       [0, 1, 0, ..., 1, 0, 1]])"
      ]
     },
     "execution_count": 11,
     "metadata": {},
     "output_type": "execute_result"
    }
   ],
   "source": [
    "MD_x"
   ]
  },
  {
   "cell_type": "code",
   "execution_count": 12,
   "id": "cea0a318",
   "metadata": {},
   "outputs": [],
   "source": [
    "from sklearn.decomposition import PCA"
   ]
  },
  {
   "cell_type": "code",
   "execution_count": 13,
   "id": "f4f22113",
   "metadata": {},
   "outputs": [],
   "source": [
    "pca = PCA()\n",
    "MD_pca = pca.fit_transform(MD_x)"
   ]
  },
  {
   "cell_type": "code",
   "execution_count": 14,
   "id": "ad903d4f",
   "metadata": {},
   "outputs": [
    {
     "data": {
      "text/plain": [
       "array([[ 0.42536706, -0.21907878,  0.6632553 , ...,  0.18100693,\n",
       "         0.51570617, -0.56707389],\n",
       "       [-0.21863768,  0.38818996, -0.73082668, ...,  0.11147641,\n",
       "         0.49331285, -0.50044033],\n",
       "       [ 0.37541475,  0.73043507, -0.12203978, ..., -0.32228786,\n",
       "         0.06175857,  0.24274108],\n",
       "       ...,\n",
       "       [-0.18589445,  1.06266156,  0.22085675, ...,  0.03825472,\n",
       "         0.05651822, -0.01279977],\n",
       "       [-1.18206441, -0.03856977,  0.56156066, ...,  0.02226748,\n",
       "        -0.00257265, -0.10531631],\n",
       "       [ 1.55024186,  0.27503101, -0.01373727, ..., -0.13658866,\n",
       "        -0.43279782, -0.45607556]])"
      ]
     },
     "execution_count": 14,
     "metadata": {},
     "output_type": "execute_result"
    }
   ],
   "source": [
    "MD_pca"
   ]
  },
  {
   "cell_type": "code",
   "execution_count": 15,
   "id": "83ea9a26",
   "metadata": {},
   "outputs": [
    {
     "data": {
      "text/plain": [
       "(1453, 11)"
      ]
     },
     "execution_count": 15,
     "metadata": {},
     "output_type": "execute_result"
    }
   ],
   "source": [
    "MD_pca.shape"
   ]
  },
  {
   "cell_type": "code",
   "execution_count": 16,
   "id": "d21eb862",
   "metadata": {},
   "outputs": [
    {
     "name": "stdout",
     "output_type": "stream",
     "text": [
      "Importance of components:\n",
      "Standard Deviation:\n",
      "[0.75679 0.60725 0.50445 0.39866 0.33729 0.31017 0.2896  0.27503 0.26516\n",
      " 0.24876 0.23682]\n",
      "Proportion of Variance:\n",
      "[0.29945 0.1928  0.13305 0.0831  0.05948 0.0503  0.04385 0.03955 0.03676\n",
      " 0.03235 0.02932]\n",
      "Cumulative Proportion:\n",
      "[0.29945 0.49224 0.62529 0.70839 0.76787 0.81817 0.86201 0.90156 0.93832\n",
      " 0.97068 1.     ]\n"
     ]
    }
   ],
   "source": [
    "print(\"Importance of components:\")\n",
    "print(\"Standard Deviation:\")\n",
    "print(np.round(np.std(MD_pca, axis=0),5))\n",
    "print(\"Proportion of Variance:\")\n",
    "print(np.round(pca.explained_variance_ratio_,5))\n",
    "print(\"Cumulative Proportion:\")\n",
    "print(np.round(np.cumsum(pca.explained_variance_ratio_),5))"
   ]
  },
  {
   "cell_type": "code",
   "execution_count": 17,
   "id": "7fd95bb0",
   "metadata": {},
   "outputs": [
    {
     "name": "stdout",
     "output_type": "stream",
     "text": [
      "Standard deviations (1, .., p= 11):\n",
      "[0.8 0.6 0.5 0.4 0.3 0.3 0.3 0.3 0.3 0.2 0.2]\n",
      "Rotation (n x k) =\n",
      "[[ 0.477 -0.364  0.304 -0.055  0.308 -0.171  0.281 -0.013 -0.572  0.11\n",
      "  -0.045]\n",
      " [ 0.155 -0.016  0.063  0.142 -0.278  0.348  0.06   0.113  0.018  0.666\n",
      "   0.542]\n",
      " [ 0.006 -0.019  0.037 -0.198 -0.071  0.355 -0.708 -0.376 -0.4    0.076\n",
      "  -0.142]\n",
      " [-0.116  0.034  0.322  0.354  0.073  0.407  0.386 -0.59   0.161  0.005\n",
      "  -0.251]\n",
      " [-0.304  0.064  0.802 -0.254 -0.361 -0.209 -0.036  0.138  0.003 -0.009\n",
      "  -0.002]\n",
      " [ 0.108  0.087  0.065  0.097 -0.108  0.595  0.087  0.628 -0.166 -0.24\n",
      "  -0.339]\n",
      " [ 0.337  0.611  0.149 -0.119  0.129  0.103  0.04  -0.14  -0.076 -0.428\n",
      "   0.489]\n",
      " [ 0.472 -0.307  0.287  0.003  0.211  0.077 -0.36   0.073  0.639 -0.079\n",
      "  -0.02 ]\n",
      " [-0.329 -0.601 -0.024 -0.068  0.003  0.261  0.068 -0.03  -0.067 -0.454\n",
      "   0.49 ]\n",
      " [ 0.214 -0.077 -0.192 -0.763 -0.288  0.178  0.35  -0.176  0.186  0.038\n",
      "  -0.158]\n",
      " [-0.375  0.14   0.089 -0.37   0.729  0.211  0.027  0.167  0.072  0.29\n",
      "   0.041]]\n"
     ]
    }
   ],
   "source": [
    "print(\"Standard deviations (1, .., p= 11):\")\n",
    "print(np.round(pca.explained_variance_**(1/2), 1))\n",
    "print(\"Rotation (n x k) =\")\n",
    "print(np.transpose(np.round(-pca.components_, 3)))"
   ]
  },
  {
   "cell_type": "code",
   "execution_count": 18,
   "id": "f2da3163",
   "metadata": {},
   "outputs": [
    {
     "data": {
      "image/png": "[encoded data removed]",
      "text/plain": [
       "<Figure size 640x480 with 1 Axes>"
      ]
     },
     "metadata": {},
     "output_type": "display_data"
    }
   ],
   "source": [
    "import matplotlib.pyplot as plt\n",
    "plt.scatter(MD_pca[:, 0], MD_pca[:, 1], color='grey')\n",
    "eigenvalues = pca.explained_variance_\n",
    "eigenvectors = pca.components_\n",
    "\n",
    "plt.quiver(np.zeros(eigenvectors.shape[1]), np.zeros(eigenvectors.shape[1]), eigenvectors[0], eigenvectors[1], color='red', scale=3)\n",
    "for i, attribute in enumerate(attribute_names):\n",
    "    plt.annotate(attribute, xy=(eigenvectors[0, i], eigenvectors[1, i]), xytext=(5, 5), textcoords='offset points', color='red', fontsize=10)\n",
    "plt.xlabel('PC1')\n",
    "plt.ylabel('PC2')\n",
    "plt.title('Projection Axes')\n",
    "plt.xlim(-2.0, 1.5)\n",
    "plt.ylim(-1.5, 1.3)\n",
    "plt.gca().set_aspect('equal', adjustable='box')\n",
    "plt.grid(True)\n",
    "plt.show()"
   ]
  },
  {
   "attachments": {},
   "cell_type": "markdown",
   "id": "47cdb8b8",
   "metadata": {},
   "source": [
    "Extracting Segments: Using k-Means"
   ]
  },
  {
   "cell_type": "code",
   "execution_count": 19,
   "id": "401a0eaa",
   "metadata": {},
   "outputs": [
    {
     "data": {
      "image/png": "[encoded data removed]",
      "text/plain": [
       "<Figure size 640x480 with 1 Axes>"
      ]
     },
     "metadata": {},
     "output_type": "display_data"
    }
   ],
   "source": [
    "from sklearn.cluster import KMeans\n",
    "from sklearn.utils import check_random_state\n",
    "\n",
    "random_state = check_random_state(1234)\n",
    "\n",
    "k_values = range(2, 9)\n",
    "nrep = 10\n",
    "\n",
    "within_cluster_distances = []\n",
    "\n",
    "for k in k_values:\n",
    "    kmeans = KMeans(n_clusters=k, random_state=random_state, n_init=nrep)\n",
    "    kmeans.fit(MD_x)\n",
    "    within_cluster_distances.append(kmeans.inertia_)\n",
    "\n",
    "plt.bar(k_values, within_cluster_distances)\n",
    "plt.xlabel(\"number of segments\")\n",
    "plt.ylabel(\"Sum of within-cluster distances\")\n",
    "plt.grid(True)\n",
    "plt.show()"
   ]
  },
  {
   "attachments": {},
   "cell_type": "markdown",
   "id": "0a6e7e2d",
   "metadata": {},
   "source": [
    "Extracting Segments: Using Mixtures of Regression Models"
   ]
  },
  {
   "cell_type": "code",
   "execution_count": 20,
   "id": "4b41a8b7",
   "metadata": {},
   "outputs": [
    {
     "name": "stdout",
     "output_type": "stream",
     "text": [
      "+3              229\n",
      "+2              187\n",
      "0               169\n",
      "+4              160\n",
      "+1              152\n",
      "I hate it!-5    152\n",
      "I love it!+5    143\n",
      "-3               73\n",
      "-4               71\n",
      "-2               59\n",
      "-1               58\n",
      "Name: Like, dtype: int64\n"
     ]
    }
   ],
   "source": [
    "table = pd.value_counts(mcdonalds['Like'])\n",
    "print(table)"
   ]
  },
  {
   "cell_type": "code",
   "execution_count": 21,
   "id": "3e4ba79c",
   "metadata": {},
   "outputs": [],
   "source": [
    "import re\n",
    "mcdonalds['like_n'] = mcdonalds['Like'].apply(lambda x: int(re.findall(r'-?\\d+', str(x))[0]) if isinstance(x, str) and re.findall(r'-?\\d+', str(x)) else x)\n",
    "mcdonalds['like_n'] = pd.to_numeric( mcdonalds['like_n'], errors='coerce')\n"
   ]
  },
  {
   "cell_type": "code",
   "execution_count": 22,
   "id": "b701e9c9",
   "metadata": {},
   "outputs": [],
   "source": [
    "mcdonalds['yummy'] =  mcdonalds['yummy'].map({'Yes': 1, 'No': 0})\n",
    "mcdonalds['convenient'] =  mcdonalds['convenient'].map({'Yes': 1, 'No': 0})\n",
    "mcdonalds['spicy'] =  mcdonalds['spicy'].map({'Yes': 1, 'No': 0})\n",
    "mcdonalds['fattening'] =  mcdonalds['fattening'].map({'Yes': 1, 'No': 0})\n",
    "mcdonalds['greasy'] =  mcdonalds['greasy'].map({'Yes': 1, 'No': 0})\n",
    "mcdonalds['fast'] =  mcdonalds['fast'].map({'Yes': 1, 'No': 0})\n",
    "mcdonalds['cheap'] =  mcdonalds['cheap'].map({'Yes': 1, 'No': 0})\n",
    "mcdonalds['tasty'] =  mcdonalds['tasty'].map({'Yes': 1, 'No': 0})\n",
    "mcdonalds['expensive'] =  mcdonalds['expensive'].map({'Yes': 1, 'No': 0})\n",
    "mcdonalds['healthy'] =  mcdonalds['healthy'].map({'Yes': 1, 'No': 0})\n",
    "mcdonalds['disgusting'] =  mcdonalds['disgusting'].map({'Yes': 1, 'No': 0})\n"
   ]
  },
  {
   "cell_type": "code",
   "execution_count": 23,
   "id": "47add759",
   "metadata": {},
   "outputs": [
    {
     "name": "stdout",
     "output_type": "stream",
     "text": [
      "{'Cluster_Labels': array([1, 1, 1, ..., 1, 1, 0], dtype=int64), 'Linear_Regressions': [LinearRegression(), LinearRegression()]}\n"
     ]
    }
   ],
   "source": [
    "import numpy as np\n",
    "import pandas as pd\n",
    "from sklearn.mixture import GaussianMixture\n",
    "from sklearn.linear_model import LinearRegression\n",
    "\n",
    "np.random.seed(1234)\n",
    "\n",
    "formula = 'like_n = yummy + convenient + spicy + fattening + greasy + fast + cheap + tasty + expensive + healthy + disgusting'\n",
    "\n",
    "n_components = 2\n",
    "n_restarts = 10\n",
    "\n",
    "X = mcdonalds[['yummy', 'convenient', 'spicy', 'fattening', 'greasy', 'fast', 'cheap', 'tasty', 'expensive', 'healthy', 'disgusting']].values\n",
    "y = mcdonalds['like_n'].values\n",
    "\n",
    "gmm = GaussianMixture(n_components=n_components, n_init=n_restarts)\n",
    "\n",
    "gmm.fit(X)\n",
    "\n",
    "cluster_labels = gmm.predict(X)\n",
    "\n",
    "linear_regressions = []\n",
    "for cluster in range(n_components):\n",
    "    \n",
    "    cluster_data = X[cluster_labels == cluster]\n",
    "    cluster_target = y[cluster_labels == cluster]\n",
    "    \n",
    "    linear_regression = LinearRegression()\n",
    "    linear_regression.fit(cluster_data, cluster_target)\n",
    "    \n",
    "    linear_regressions.append(linear_regression)\n",
    "\n",
    "\n",
    "MD_reg2 = {'Cluster_Labels': cluster_labels, 'Linear_Regressions': linear_regressions}\n",
    "\n",
    "print(MD_reg2)\n"
   ]
  }
 ],
 "metadata": {
  "kernelspec": {
   "display_name": "Python 3 (ipykernel)",
   "language": "python",
   "name": "python3"
  },
  "language_info": {
   "codemirror_mode": {
    "name": "ipython",
    "version": 3
   },
   "file_extension": ".py",
   "mimetype": "text/x-python",
   "name": "python",
   "nbconvert_exporter": "python",
   "pygments_lexer": "ipython3",
   "version": "3.10.5"
  }
 },
 "nbformat": 4,
 "nbformat_minor": 5
}
